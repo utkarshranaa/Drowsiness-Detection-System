{
  "nbformat": 4,
  "nbformat_minor": 0,
  "metadata": {
    "colab": {
      "provenance": []
    },
    "kernelspec": {
      "name": "python3",
      "display_name": "Python 3"
    },
    "language_info": {
      "name": "python"
    }
  },
  "cells": [
    {
      "cell_type": "code",
      "execution_count": null,
      "metadata": {
        "id": "tajEQRDzS6KL"
      },
      "outputs": [],
      "source": [
        "!pip install torch==1.8.1+cu111 torchvision==0.9.1+cu111 torchaudio===0.8.1 -f https://download.pytorch.org/whl/lts/1.8/torch_lts.html\n"
      ]
    },
    {
      "cell_type": "code",
      "source": [
        "!git clone https://github.com/ultralytics/yolov5"
      ],
      "metadata": {
        "id": "LC9ilBf0TBPl"
      },
      "execution_count": null,
      "outputs": []
    },
    {
      "cell_type": "code",
      "source": [
        "!cd yolov5 & pip install -r requirements.txt"
      ],
      "metadata": {
        "id": "qFUmAGsLTEcN"
      },
      "execution_count": null,
      "outputs": []
    },
    {
      "cell_type": "code",
      "source": [
        "import torch\n",
        "from matplotlib import pyplot as plt\n",
        "import numpy as np\n",
        "import cv2"
      ],
      "metadata": {
        "id": "g6PGuZsUTFK5"
      },
      "execution_count": null,
      "outputs": []
    },
    {
      "cell_type": "code",
      "source": [
        "model = torch.hub.load('ultralytics/yolov5', 'yolov5s')"
      ],
      "metadata": {
        "id": "9AACmZI6THV2"
      },
      "execution_count": null,
      "outputs": []
    },
    {
      "cell_type": "code",
      "source": [
        "model"
      ],
      "metadata": {
        "id": "XUboD3LOTJ2c"
      },
      "execution_count": null,
      "outputs": []
    },
    {
      "cell_type": "code",
      "source": [
        "img = 'https://upload.wikimedia.org/wikipedia/commons/thumb/e/e4/Cars_in_traffic_in_Auckland%2C_New_Zealand_-_copyright-free_photo_released_to_public_domain.jpg/800px-Cars_in_traffic_in_Auckland%2C_New_Zealand_-_copyright-free_photo_released_to_public_domain.jpg'"
      ],
      "metadata": {
        "id": "aOtXAwR-TNEK"
      },
      "execution_count": null,
      "outputs": []
    },
    {
      "cell_type": "code",
      "source": [
        "results = model(img)\n",
        "results.print()"
      ],
      "metadata": {
        "id": "ovQm7QVeTNtD"
      },
      "execution_count": null,
      "outputs": []
    },
    {
      "cell_type": "code",
      "source": [
        "%matplotlib inline\n",
        "plt.imshow(np.squeeze(results.render()))\n",
        "plt.show()"
      ],
      "metadata": {
        "id": "biMSDqt0TQy8"
      },
      "execution_count": null,
      "outputs": []
    },
    {
      "cell_type": "code",
      "source": [
        "results.render()"
      ],
      "metadata": {
        "id": "ESADNEnZTRrA"
      },
      "execution_count": null,
      "outputs": []
    },
    {
      "cell_type": "code",
      "source": [
        "cap = cv2.VideoCapture(0)\n",
        "while cap.isOpened():\n",
        "    ret, frame = cap.read()\n",
        "\n",
        "    # Make detections\n",
        "    results = model(frame)\n",
        "\n",
        "    cv2.imshow('YOLO', np.squeeze(results.render()))\n",
        "\n",
        "    if cv2.waitKey(10) & 0xFF == ord('q'):\n",
        "        break\n",
        "cap.release()\n",
        "cv2.destroyAllWindows()"
      ],
      "metadata": {
        "id": "_T_eP9auTUFm"
      },
      "execution_count": null,
      "outputs": []
    },
    {
      "cell_type": "code",
      "source": [
        "import uuid   # Unique identifier\n",
        "import os\n",
        "import time"
      ],
      "metadata": {
        "id": "u8-ExiWSTVs1"
      },
      "execution_count": null,
      "outputs": []
    },
    {
      "cell_type": "code",
      "source": [
        "IMAGES_PATH = os.path.join('data', 'images') #/data/images\n",
        "labels = ['awake', 'drowsy']\n",
        "number_imgs = 5"
      ],
      "metadata": {
        "id": "xS3TSUjBTWQz"
      },
      "execution_count": null,
      "outputs": []
    },
    {
      "cell_type": "code",
      "source": [
        "cap = cv2.VideoCapture(0)\n",
        "# Loop through labels\n",
        "for label in labels:\n",
        "    print('Collecting images for {}'.format(label))\n",
        "    time.sleep(5)\n",
        "\n",
        "    # Loop through image range\n",
        "    for img_num in range(number_imgs):\n",
        "        print('Collecting images for {}, image number {}'.format(label, img_num))\n",
        "\n",
        "        # Webcam feed\n",
        "        ret, frame = cap.read()\n",
        "\n",
        "        # Naming out image path\n",
        "        imgname = os.path.join(IMAGES_PATH, label+'.'+str(uuid.uuid1())+'.jpg')\n",
        "\n",
        "        # Writes out image to file\n",
        "        cv2.imwrite(imgname, frame)\n",
        "\n",
        "        # Render to the screen\n",
        "        cv2.imshow('Image Collection', frame)\n",
        "\n",
        "        # 2 second delay between captures\n",
        "        time.sleep(2)\n",
        "\n",
        "        if cv2.waitKey(10) & 0xFF == ord('q'):\n",
        "            break\n",
        "cap.release()\n",
        "cv2.destroyAllWindows()"
      ],
      "metadata": {
        "id": "wr7Ruu5dTYx6"
      },
      "execution_count": null,
      "outputs": []
    },
    {
      "cell_type": "code",
      "source": [
        "print(os.path.join(IMAGES_PATH, labels[0]+'.'+str(uuid.uuid1())+'.jpg'))"
      ],
      "metadata": {
        "id": "NeB1fmSLTZrA"
      },
      "execution_count": null,
      "outputs": []
    },
    {
      "cell_type": "code",
      "source": [
        "for label in labels:\n",
        "    print('Collecting images for {}'.format(label))\n",
        "    for img_num in range(number_imgs):\n",
        "        print('Collecting images for {}, image number {}'.format(label, img_num))\n",
        "        imgname = os.path.join(IMAGES_PATH, label+'.'+str(uuid.uuid1())+'.jpg')\n",
        "        print(imgname)"
      ],
      "metadata": {
        "id": "wo7MUG2cTcCf"
      },
      "execution_count": null,
      "outputs": []
    },
    {
      "cell_type": "code",
      "source": [
        "!git clone https://github.com/tzutalin/labelImg"
      ],
      "metadata": {
        "id": "NtoHY9mqTcqZ"
      },
      "execution_count": null,
      "outputs": []
    },
    {
      "cell_type": "code",
      "source": [
        "!pip install pyqt5 lxml --upgrade\n",
        "!cd labelImg && pyrcc5 -o libs/resources.py resources.qrc"
      ],
      "metadata": {
        "id": "Mgp9DLGVTeRX"
      },
      "execution_count": null,
      "outputs": []
    },
    {
      "cell_type": "code",
      "source": [
        "!cd yolov5 && python train.py --img 320 --batch 16 --epochs 500 --data dataset.yml --weights yolov5s.pt --workers 2"
      ],
      "metadata": {
        "id": "ks6-fRPWTf-E"
      },
      "execution_count": null,
      "outputs": []
    },
    {
      "cell_type": "code",
      "source": [
        "model = torch.hub.load('ultralytics/yolov5', 'custom', path='yolov5/runs/train/exp15/weights/last.pt', force_reload=True)"
      ],
      "metadata": {
        "id": "miAJK-vDTikH"
      },
      "execution_count": null,
      "outputs": []
    },
    {
      "cell_type": "code",
      "source": [
        "img = os.path.join('data', 'images', 'awake.c9a24d48-e1f6-11eb-bbef-5cf3709bbcc6.jpg')"
      ],
      "metadata": {
        "id": "-X6crCBCTjjN"
      },
      "execution_count": null,
      "outputs": []
    },
    {
      "cell_type": "code",
      "source": [
        "results = model(img)"
      ],
      "metadata": {
        "id": "r5KV_faYTphJ"
      },
      "execution_count": null,
      "outputs": []
    },
    {
      "cell_type": "code",
      "source": [
        "results.print()"
      ],
      "metadata": {
        "id": "h3GagTpMTquD"
      },
      "execution_count": null,
      "outputs": []
    },
    {
      "cell_type": "code",
      "source": [
        "%matplotlib inline\n",
        "plt.imshow(np.squeeze(results.render()))\n",
        "plt.show()"
      ],
      "metadata": {
        "id": "OWIT4yJJTsGs"
      },
      "execution_count": null,
      "outputs": []
    },
    {
      "cell_type": "code",
      "source": [
        "cap = cv2.VideoCapture(0)\n",
        "while cap.isOpened():\n",
        "    ret, frame = cap.read()\n",
        "\n",
        "    # Make detections\n",
        "    results = model(frame)\n",
        "\n",
        "    cv2.imshow('YOLO', np.squeeze(results.render()))\n",
        "\n",
        "    if cv2.waitKey(10) & 0xFF == ord('q'):\n",
        "        break\n",
        "cap.release()\n",
        "cv2.destroyAllWindows()"
      ],
      "metadata": {
        "id": "9heQxvaYTsqq"
      },
      "execution_count": null,
      "outputs": []
    }
  ]
}